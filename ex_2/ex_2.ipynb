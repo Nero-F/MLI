{
 "cells": [
  {
   "cell_type": "code",
   "execution_count": 1,
   "id": "b6549dba-6a2c-4a66-abf5-84ec95e58dbb",
   "metadata": {},
   "outputs": [],
   "source": [
    "import pandas as pd\n",
    "import numpy as np\n",
    "from sklearn.preprocessing import OneHotEncoder\n",
    "import math\n"
   ]
  },
  {
   "cell_type": "markdown",
   "id": "89721b16-a625-4a51-9ae8-7c9080e17f0f",
   "metadata": {},
   "source": [
    "Reading the dataset into a panda dataframe"
   ]
  },
  {
   "cell_type": "code",
   "execution_count": 2,
   "id": "2fab3c96-078e-4590-883d-670bf883a5f7",
   "metadata": {},
   "outputs": [],
   "source": [
    "df = pd.read_csv(\"./dataset.csv\")"
   ]
  },
  {
   "cell_type": "code",
   "execution_count": 3,
   "id": "1fe17c78-a7fe-402e-9fbb-cae2d0487d61",
   "metadata": {},
   "outputs": [
    {
     "data": {
      "text/html": [
       "<div>\n",
       "<style scoped>\n",
       "    .dataframe tbody tr th:only-of-type {\n",
       "        vertical-align: middle;\n",
       "    }\n",
       "\n",
       "    .dataframe tbody tr th {\n",
       "        vertical-align: top;\n",
       "    }\n",
       "\n",
       "    .dataframe thead th {\n",
       "        text-align: right;\n",
       "    }\n",
       "</style>\n",
       "<table border=\"1\" class=\"dataframe\">\n",
       "  <thead>\n",
       "    <tr style=\"text-align: right;\">\n",
       "      <th></th>\n",
       "      <th>Unnamed: 0</th>\n",
       "      <th>age</th>\n",
       "      <th>height</th>\n",
       "      <th>job</th>\n",
       "      <th>city</th>\n",
       "      <th>favorite music style</th>\n",
       "    </tr>\n",
       "  </thead>\n",
       "  <tbody>\n",
       "    <tr>\n",
       "      <th>0</th>\n",
       "      <td>0</td>\n",
       "      <td>30.237071</td>\n",
       "      <td>179.874298</td>\n",
       "      <td>designer</td>\n",
       "      <td>paris</td>\n",
       "      <td>trap</td>\n",
       "    </tr>\n",
       "    <tr>\n",
       "      <th>1</th>\n",
       "      <td>1</td>\n",
       "      <td>27.915796</td>\n",
       "      <td>172.659587</td>\n",
       "      <td>fireman</td>\n",
       "      <td>marseille</td>\n",
       "      <td>hiphop</td>\n",
       "    </tr>\n",
       "    <tr>\n",
       "      <th>2</th>\n",
       "      <td>2</td>\n",
       "      <td>32.205338</td>\n",
       "      <td>181.337491</td>\n",
       "      <td>teacher</td>\n",
       "      <td>paris</td>\n",
       "      <td>metal</td>\n",
       "    </tr>\n",
       "    <tr>\n",
       "      <th>3</th>\n",
       "      <td>3</td>\n",
       "      <td>26.595215</td>\n",
       "      <td>172.337885</td>\n",
       "      <td>designer</td>\n",
       "      <td>toulouse</td>\n",
       "      <td>metal</td>\n",
       "    </tr>\n",
       "    <tr>\n",
       "      <th>4</th>\n",
       "      <td>4</td>\n",
       "      <td>27.394780</td>\n",
       "      <td>182.708030</td>\n",
       "      <td>teacher</td>\n",
       "      <td>paris</td>\n",
       "      <td>metal</td>\n",
       "    </tr>\n",
       "    <tr>\n",
       "      <th>...</th>\n",
       "      <td>...</td>\n",
       "      <td>...</td>\n",
       "      <td>...</td>\n",
       "      <td>...</td>\n",
       "      <td>...</td>\n",
       "      <td>...</td>\n",
       "    </tr>\n",
       "    <tr>\n",
       "      <th>195</th>\n",
       "      <td>195</td>\n",
       "      <td>38.768667</td>\n",
       "      <td>169.293654</td>\n",
       "      <td>developper</td>\n",
       "      <td>madrid</td>\n",
       "      <td>classical</td>\n",
       "    </tr>\n",
       "    <tr>\n",
       "      <th>196</th>\n",
       "      <td>196</td>\n",
       "      <td>32.041409</td>\n",
       "      <td>176.971060</td>\n",
       "      <td>designer</td>\n",
       "      <td>lille</td>\n",
       "      <td>hiphop</td>\n",
       "    </tr>\n",
       "    <tr>\n",
       "      <th>197</th>\n",
       "      <td>197</td>\n",
       "      <td>29.015181</td>\n",
       "      <td>172.990379</td>\n",
       "      <td>developper</td>\n",
       "      <td>paris</td>\n",
       "      <td>classical</td>\n",
       "    </tr>\n",
       "    <tr>\n",
       "      <th>198</th>\n",
       "      <td>198</td>\n",
       "      <td>28.889681</td>\n",
       "      <td>172.776664</td>\n",
       "      <td>painter</td>\n",
       "      <td>toulouse</td>\n",
       "      <td>rap</td>\n",
       "    </tr>\n",
       "    <tr>\n",
       "      <th>199</th>\n",
       "      <td>199</td>\n",
       "      <td>32.328622</td>\n",
       "      <td>177.087355</td>\n",
       "      <td>teacher</td>\n",
       "      <td>marseille</td>\n",
       "      <td>jazz</td>\n",
       "    </tr>\n",
       "  </tbody>\n",
       "</table>\n",
       "<p>200 rows × 6 columns</p>\n",
       "</div>"
      ],
      "text/plain": [
       "     Unnamed: 0        age      height         job       city  \\\n",
       "0             0  30.237071  179.874298    designer      paris   \n",
       "1             1  27.915796  172.659587     fireman  marseille   \n",
       "2             2  32.205338  181.337491     teacher      paris   \n",
       "3             3  26.595215  172.337885    designer   toulouse   \n",
       "4             4  27.394780  182.708030     teacher      paris   \n",
       "..          ...        ...         ...         ...        ...   \n",
       "195         195  38.768667  169.293654  developper     madrid   \n",
       "196         196  32.041409  176.971060    designer      lille   \n",
       "197         197  29.015181  172.990379  developper      paris   \n",
       "198         198  28.889681  172.776664     painter   toulouse   \n",
       "199         199  32.328622  177.087355     teacher  marseille   \n",
       "\n",
       "    favorite music style  \n",
       "0                   trap  \n",
       "1                 hiphop  \n",
       "2                  metal  \n",
       "3                  metal  \n",
       "4                  metal  \n",
       "..                   ...  \n",
       "195            classical  \n",
       "196               hiphop  \n",
       "197            classical  \n",
       "198                  rap  \n",
       "199                 jazz  \n",
       "\n",
       "[200 rows x 6 columns]"
      ]
     },
     "execution_count": 3,
     "metadata": {},
     "output_type": "execute_result"
    }
   ],
   "source": [
    "df"
   ]
  },
  {
   "cell_type": "code",
   "execution_count": 4,
   "id": "802d2d2b-3af5-4554-92ff-23336ffb5854",
   "metadata": {},
   "outputs": [
    {
     "name": "stdout",
     "output_type": "stream",
     "text": [
      "200\n"
     ]
    }
   ],
   "source": [
    "nb_people = len(df.index)\n",
    "print(nb_people)"
   ]
  },
  {
   "cell_type": "code",
   "execution_count": 5,
   "id": "4f2317d5-c6c9-40ef-8a4b-edb8c47c7902",
   "metadata": {},
   "outputs": [
    {
     "name": "stdout",
     "output_type": "stream",
     "text": [
      "<bound method DataFrame.info of      Unnamed: 0        age      height         job       city  \\\n",
      "0             0  30.237071  179.874298    designer      paris   \n",
      "1             1  27.915796  172.659587     fireman  marseille   \n",
      "2             2  32.205338  181.337491     teacher      paris   \n",
      "3             3  26.595215  172.337885    designer   toulouse   \n",
      "4             4  27.394780  182.708030     teacher      paris   \n",
      "..          ...        ...         ...         ...        ...   \n",
      "195         195  38.768667  169.293654  developper     madrid   \n",
      "196         196  32.041409  176.971060    designer      lille   \n",
      "197         197  29.015181  172.990379  developper      paris   \n",
      "198         198  28.889681  172.776664     painter   toulouse   \n",
      "199         199  32.328622  177.087355     teacher  marseille   \n",
      "\n",
      "    favorite music style  \n",
      "0                   trap  \n",
      "1                 hiphop  \n",
      "2                  metal  \n",
      "3                  metal  \n",
      "4                  metal  \n",
      "..                   ...  \n",
      "195            classical  \n",
      "196               hiphop  \n",
      "197            classical  \n",
      "198                  rap  \n",
      "199                 jazz  \n",
      "\n",
      "[200 rows x 6 columns]>\n"
     ]
    }
   ],
   "source": [
    "print(df.info)"
   ]
  },
  {
   "cell_type": "code",
   "execution_count": 6,
   "id": "56a36f41-f137-4e5c-ab37-27896bbd2824",
   "metadata": {},
   "outputs": [
    {
     "name": "stdout",
     "output_type": "stream",
     "text": [
      "Index(['Unnamed: 0', 'age', 'height', 'job', 'city', 'favorite music style'], dtype='object')\n"
     ]
    }
   ],
   "source": [
    "print(df.columns)"
   ]
  },
  {
   "cell_type": "code",
   "execution_count": 7,
   "id": "0cddf309-37b2-4b37-bd23-2afe4e82022f",
   "metadata": {},
   "outputs": [
    {
     "name": "stdout",
     "output_type": "stream",
     "text": [
      "   Unnamed: 0        age      height       job       city favorite music style\n",
      "0           0  30.237071  179.874298  designer      paris                 trap\n",
      "1           1  27.915796  172.659587   fireman  marseille               hiphop\n",
      "2           2  32.205338  181.337491   teacher      paris                metal\n",
      "3           3  26.595215  172.337885  designer   toulouse                metal\n",
      "4           4  27.394780  182.708030   teacher      paris                metal\n"
     ]
    }
   ],
   "source": [
    "print(df.head(5))"
   ]
  },
  {
   "cell_type": "code",
   "execution_count": 8,
   "id": "5e8d5b3e-db3b-49d8-855b-fcf5c83c37f2",
   "metadata": {},
   "outputs": [
    {
     "name": "stdout",
     "output_type": "stream",
     "text": [
      "---\n",
      "all infos on player 1\n",
      "---\n",
      "Unnamed: 0                       1\n",
      "age                      27.915796\n",
      "height                  172.659587\n",
      "job                        fireman\n",
      "city                     marseille\n",
      "favorite music style        hiphop\n",
      "Name: 1, dtype: object\n"
     ]
    }
   ],
   "source": [
    "people_id = 1\n",
    "print(f\"---\\nall infos on player {people_id}\\n---\")\n",
    "print(df.loc[people_id])"
   ]
  },
  {
   "cell_type": "markdown",
   "id": "e0d5be96-f7ac-43d5-8c2c-9394b8307103",
   "metadata": {},
   "source": [
    "For categorical values we sort them based on their proximity, it will be usefull to compute the dissimilarities"
   ]
  },
  {
   "cell_type": "code",
   "execution_count": 9,
   "id": "92ab246a-b1d5-4677-a6f0-872abe78c91f",
   "metadata": {},
   "outputs": [],
   "source": [
    "musics = ['classical', 'jazz', 'other', 'hiphop', 'trap', 'rap', 'rock',\n",
    "        'metal', 'technical death metal']\n",
    "jobs = ['designer', 'developper', 'engineer', 'teacher', 'doctor', 'fireman', 'painter']\n",
    "cities = ['madrid', 'toulouse', 'marseille', 'paris', 'lille']"
   ]
  },
  {
   "cell_type": "markdown",
   "id": "e6d5ba3c-2151-40bd-85d0-69a986e18eb8",
   "metadata": {},
   "source": [
    "Compute Dissimilarity between two people\n",
    "base on their id.\n",
    "\n",
    "The job, the city and the favorite music style are not\n",
    "quantitative attribute.\n",
    "Their are called categorical variable.\n",
    "We must handle them differently than quantitative attribute."
   ]
  },
  {
   "cell_type": "code",
   "execution_count": 10,
   "id": "0063b661-dbe2-4f6a-a966-69a54276b604",
   "metadata": {},
   "outputs": [],
   "source": [
    "def compute_dissimilarities(people_1_id, people_2_id):\n",
    "    people_1_age, people_1_height = df.loc[people_1_id][1], df.loc[people_1_id][2]\n",
    "    people_2_age, people_2_height = df.loc[people_2_id][1], df.loc[people_2_id][2]\n",
    "    people_1_job, people_1_city = df.loc[people_1_id][3], df.loc[people_1_id][4]\n",
    "    people_2_job, people_2_city = df.loc[people_2_id][3], df.loc[people_2_id][4]\n",
    "    people_1_fav_music, people_2_fav_music = df.loc[people_1_id][5], df.loc[people_2_id][5]\n",
    "    \n",
    "    dissimilarities_fav_music= abs(musics.index(people_2_fav_music) - musics.index(people_1_fav_music))\n",
    "    dissimilarities_job = abs(jobs.index(people_2_job) - jobs.index(people_1_job))\n",
    "    dissimilarities_city = abs(cities.index(people_2_city) - cities.index(people_1_city))\n",
    "    \n",
    "    dissimilarities = math.sqrt(\n",
    "        (people_1_age-people_2_age)**2+(people_1_height-people_2_height)**2+\n",
    "        dissimilarities_job+dissimilarities_city+dissimilarities_fav_music\n",
    "    )\n",
    "    \n",
    "    return dissimilarities"
   ]
  },
  {
   "cell_type": "markdown",
   "id": "ccfdd647-6d0a-4db4-a671-5f117194d378",
   "metadata": {},
   "source": [
    "Build the dissimilarities Matrix"
   ]
  },
  {
   "cell_type": "code",
   "execution_count": 11,
   "id": "ac9df3be-8623-40f4-945e-29557b58a3da",
   "metadata": {},
   "outputs": [
    {
     "name": "stdout",
     "output_type": "stream",
     "text": [
      "dissimirities_matrix\n",
      "[[ 0.          8.02747626  3.46626707 ...  7.34039236  7.82252312\n",
      "   4.37511613]\n",
      " [ 8.02747626  0.         10.03524702 ...  3.05255158  2.22759041\n",
      "   6.5633955 ]\n",
      " [ 3.46626707 10.03524702  0.         ...  9.42610078  9.55412639\n",
      "   5.00787937]\n",
      " ...\n",
      " [ 7.34039236  3.05255158  9.42610078 ...  0.          3.47295613\n",
      "   5.63596494]\n",
      " [ 7.82252312  2.22759041  9.55412639 ...  3.47295613  0.\n",
      "   6.1974485 ]\n",
      " [ 4.37511613  6.5633955   5.00787937 ...  5.63596494  6.1974485\n",
      "   0.        ]]\n"
     ]
    }
   ],
   "source": [
    "nb_people = len(df.index)\n",
    "\n",
    "diss_matrix = np.zeros((nb_people, nb_people))\n",
    "\n",
    "for people_1 in range(nb_people):\n",
    "    for people_2 in range(nb_people):\n",
    "        dissimilarities = compute_dissimilarities(people_1, people_2)\n",
    "        diss_matrix[people_1][people_2] = dissimilarities\n",
    "\n",
    "#compute_dissimilarities(1, 2)\n",
    "print('dissimirities_matrix')\n",
    "print(diss_matrix)"
   ]
  }
 ],
 "metadata": {
  "kernelspec": {
   "display_name": "Python 3 (ipykernel)",
   "language": "python",
   "name": "python3"
  },
  "language_info": {
   "codemirror_mode": {
    "name": "ipython",
    "version": 3
   },
   "file_extension": ".py",
   "mimetype": "text/x-python",
   "name": "python",
   "nbconvert_exporter": "python",
   "pygments_lexer": "ipython3",
   "version": "3.10.9"
  }
 },
 "nbformat": 4,
 "nbformat_minor": 5
}
