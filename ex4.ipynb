{
 "cells": [
  {
   "cell_type": "code",
   "execution_count": 1,
   "id": "3b60842c-f3b6-4ef9-a091-661665cef4f9",
   "metadata": {},
   "outputs": [],
   "source": [
    "import numpy as np\n",
    "import pandas as pd\n",
    "from sklearn.model_selection import train_test_split\n",
    "from sklearn.metrics import mean_squared_error, r2_score\n",
    "from sklearn.linear_model import LinearRegression, Ridge, Lasso, ElasticNet\n",
    "from sklearn.ensemble import RandomForestRegressor\n",
    "from sklearn.tree import DecisionTreeRegressor\n",
    "from sklearn.svm import SVR\n",
    "from sklearn.preprocessing import PolynomialFeatures"
   ]
  },
  {
   "cell_type": "code",
   "execution_count": 2,
   "id": "90396d4d-9979-4680-b1ca-24dd70fd4d83",
   "metadata": {},
   "outputs": [],
   "source": [
    "# Load the data\n",
    "x = np.load(\"inputs.npy\")\n",
    "y = np.load(\"labels.npy\").ravel()"
   ]
  },
  {
   "cell_type": "code",
   "execution_count": 3,
   "id": "879262a8-c84b-45a9-a4e4-e37c82a9bff0",
   "metadata": {},
   "outputs": [],
   "source": [
    "# Split the data into training and test sets\n",
    "x_train, x_test, y_train, y_test = train_test_split(x, y, test_size=0.2, random_state=0)"
   ]
  },
  {
   "cell_type": "code",
   "execution_count": 4,
   "id": "9697e419-9f47-42a1-83b8-66275938aa8c",
   "metadata": {},
   "outputs": [],
   "source": [
    "# Add polynomial features\n",
    "poly_features = PolynomialFeatures(degree=2)\n",
    "x_poly_train = poly_features.fit_transform(x_train)\n",
    "x_poly_test = poly_features.transform(x_test)"
   ]
  },
  {
   "cell_type": "code",
   "execution_count": 5,
   "id": "1cf53f86-fcfb-45b1-a7e6-d947837c00f4",
   "metadata": {},
   "outputs": [],
   "source": [
    "# Define the models\n",
    "lin_reg = LinearRegression()\n",
    "lin_reg_poly = LinearRegression()\n",
    "forest_reg = RandomForestRegressor(random_state=0)\n",
    "tree_reg = DecisionTreeRegressor(random_state=0)\n",
    "svm_reg = SVR()\n",
    "ridge_reg = Ridge(alpha=0.01)\n",
    "elastic_reg = ElasticNet(alpha=0.01)"
   ]
  },
  {
   "cell_type": "code",
   "execution_count": 6,
   "id": "68a34094-b566-4873-869f-171537ae5856",
   "metadata": {},
   "outputs": [
    {
     "data": {
      "text/html": [
       "<style>#sk-container-id-1 {color: black;background-color: white;}#sk-container-id-1 pre{padding: 0;}#sk-container-id-1 div.sk-toggleable {background-color: white;}#sk-container-id-1 label.sk-toggleable__label {cursor: pointer;display: block;width: 100%;margin-bottom: 0;padding: 0.3em;box-sizing: border-box;text-align: center;}#sk-container-id-1 label.sk-toggleable__label-arrow:before {content: \"▸\";float: left;margin-right: 0.25em;color: #696969;}#sk-container-id-1 label.sk-toggleable__label-arrow:hover:before {color: black;}#sk-container-id-1 div.sk-estimator:hover label.sk-toggleable__label-arrow:before {color: black;}#sk-container-id-1 div.sk-toggleable__content {max-height: 0;max-width: 0;overflow: hidden;text-align: left;background-color: #f0f8ff;}#sk-container-id-1 div.sk-toggleable__content pre {margin: 0.2em;color: black;border-radius: 0.25em;background-color: #f0f8ff;}#sk-container-id-1 input.sk-toggleable__control:checked~div.sk-toggleable__content {max-height: 200px;max-width: 100%;overflow: auto;}#sk-container-id-1 input.sk-toggleable__control:checked~label.sk-toggleable__label-arrow:before {content: \"▾\";}#sk-container-id-1 div.sk-estimator input.sk-toggleable__control:checked~label.sk-toggleable__label {background-color: #d4ebff;}#sk-container-id-1 div.sk-label input.sk-toggleable__control:checked~label.sk-toggleable__label {background-color: #d4ebff;}#sk-container-id-1 input.sk-hidden--visually {border: 0;clip: rect(1px 1px 1px 1px);clip: rect(1px, 1px, 1px, 1px);height: 1px;margin: -1px;overflow: hidden;padding: 0;position: absolute;width: 1px;}#sk-container-id-1 div.sk-estimator {font-family: monospace;background-color: #f0f8ff;border: 1px dotted black;border-radius: 0.25em;box-sizing: border-box;margin-bottom: 0.5em;}#sk-container-id-1 div.sk-estimator:hover {background-color: #d4ebff;}#sk-container-id-1 div.sk-parallel-item::after {content: \"\";width: 100%;border-bottom: 1px solid gray;flex-grow: 1;}#sk-container-id-1 div.sk-label:hover label.sk-toggleable__label {background-color: #d4ebff;}#sk-container-id-1 div.sk-serial::before {content: \"\";position: absolute;border-left: 1px solid gray;box-sizing: border-box;top: 0;bottom: 0;left: 50%;z-index: 0;}#sk-container-id-1 div.sk-serial {display: flex;flex-direction: column;align-items: center;background-color: white;padding-right: 0.2em;padding-left: 0.2em;position: relative;}#sk-container-id-1 div.sk-item {position: relative;z-index: 1;}#sk-container-id-1 div.sk-parallel {display: flex;align-items: stretch;justify-content: center;background-color: white;position: relative;}#sk-container-id-1 div.sk-item::before, #sk-container-id-1 div.sk-parallel-item::before {content: \"\";position: absolute;border-left: 1px solid gray;box-sizing: border-box;top: 0;bottom: 0;left: 50%;z-index: -1;}#sk-container-id-1 div.sk-parallel-item {display: flex;flex-direction: column;z-index: 1;position: relative;background-color: white;}#sk-container-id-1 div.sk-parallel-item:first-child::after {align-self: flex-end;width: 50%;}#sk-container-id-1 div.sk-parallel-item:last-child::after {align-self: flex-start;width: 50%;}#sk-container-id-1 div.sk-parallel-item:only-child::after {width: 0;}#sk-container-id-1 div.sk-dashed-wrapped {border: 1px dashed gray;margin: 0 0.4em 0.5em 0.4em;box-sizing: border-box;padding-bottom: 0.4em;background-color: white;}#sk-container-id-1 div.sk-label label {font-family: monospace;font-weight: bold;display: inline-block;line-height: 1.2em;}#sk-container-id-1 div.sk-label-container {text-align: center;}#sk-container-id-1 div.sk-container {/* jupyter's `normalize.less` sets `[hidden] { display: none; }` but bootstrap.min.css set `[hidden] { display: none !important; }` so we also need the `!important` here to be able to override the default hidden behavior on the sphinx rendered scikit-learn.org. See: https://github.com/scikit-learn/scikit-learn/issues/21755 */display: inline-block !important;position: relative;}#sk-container-id-1 div.sk-text-repr-fallback {display: none;}</style><div id=\"sk-container-id-1\" class=\"sk-top-container\"><div class=\"sk-text-repr-fallback\"><pre>ElasticNet(alpha=0.01)</pre><b>In a Jupyter environment, please rerun this cell to show the HTML representation or trust the notebook. <br />On GitHub, the HTML representation is unable to render, please try loading this page with nbviewer.org.</b></div><div class=\"sk-container\" hidden><div class=\"sk-item\"><div class=\"sk-estimator sk-toggleable\"><input class=\"sk-toggleable__control sk-hidden--visually\" id=\"sk-estimator-id-1\" type=\"checkbox\" checked><label for=\"sk-estimator-id-1\" class=\"sk-toggleable__label sk-toggleable__label-arrow\">ElasticNet</label><div class=\"sk-toggleable__content\"><pre>ElasticNet(alpha=0.01)</pre></div></div></div></div></div>"
      ],
      "text/plain": [
       "ElasticNet(alpha=0.01)"
      ]
     },
     "execution_count": 6,
     "metadata": {},
     "output_type": "execute_result"
    }
   ],
   "source": [
    "# Fit the models\n",
    "lin_reg.fit(x_train, y_train)\n",
    "forest_reg.fit(x_train, y_train)\n",
    "tree_reg.fit(x_train, y_train)\n",
    "svm_reg.fit(x_train, y_train)\n",
    "lin_reg_poly.fit(x_poly_train, y_train)\n",
    "ridge_reg.fit(x_train, y_train)\n",
    "elastic_reg.fit(x_train, y_train)"
   ]
  },
  {
   "cell_type": "code",
   "execution_count": 7,
   "id": "d2f4658a-22e6-42ae-aa0e-aa9d1fe6e166",
   "metadata": {},
   "outputs": [],
   "source": [
    "# Make predictions on the test set\n",
    "y_pred_lin_reg = lin_reg.predict(x_test)\n",
    "y_pred_forest_reg = forest_reg.predict(x_test)\n",
    "y_pred_tree_reg = tree_reg.predict(x_test)\n",
    "y_pred_svm_reg = svm_reg.predict(x_test)\n",
    "y_pred_lin_poly_reg = lin_reg_poly.predict(x_poly_test)\n",
    "y_pred_ridge_reg = ridge_reg.predict(x_test)\n",
    "y_pred_elastic_reg = elastic_reg.predict(x_test)"
   ]
  },
  {
   "cell_type": "code",
   "execution_count": 8,
   "id": "75e6eb85-b263-4f26-8949-649e462a9553",
   "metadata": {},
   "outputs": [],
   "source": [
    "# Evaluate the models using R2 score\n",
    "r2_lin_reg = r2_score(y_test, y_pred_lin_reg)\n",
    "r2_forest_reg = r2_score(y_test, y_pred_forest_reg)\n",
    "r2_tree_reg = r2_score(y_test, y_pred_tree_reg)\n",
    "r2_svm_reg = r2_score(y_test, y_pred_svm_reg)\n",
    "r2_lin_poly_reg = r2_score(y_test, y_pred_lin_poly_reg)\n",
    "r2_ridge_reg = r2_score(y_test, y_pred_ridge_reg)\n",
    "r2_elastic_reg = r2_score(y_test, y_pred_elastic_reg)"
   ]
  },
  {
   "cell_type": "code",
   "execution_count": 9,
   "id": "857168f0-6ad5-4c09-9a36-0039671059d3",
   "metadata": {},
   "outputs": [
    {
     "name": "stdout",
     "output_type": "stream",
     "text": [
      "R2 score for Linear Regression: 0.807738546171713\n",
      "R2 score for Random Forest Regressor: 0.5359454177405851\n",
      "R2 score for Decision Tree Regressor: 0.2252831575440949\n",
      "R2 score for Support Vector Machine Regressor: 0.44705646229285256\n",
      "R2 score for Linear Regression with Polynomial Features: 0.824046878846827\n",
      "R2 score for Ridge Regression: 0.8087179499700696\n",
      "R2 score for Elastic Net Regression: 0.912611435559477\n"
     ]
    }
   ],
   "source": [
    "# Print the R2 scores\n",
    "print(\"R2 score for Linear Regression:\", r2_lin_reg)\n",
    "print(\"R2 score for Random Forest Regressor:\", r2_forest_reg)\n",
    "print(\"R2 score for Decision Tree Regressor:\", r2_tree_reg)\n",
    "print(\"R2 score for Support Vector Machine Regressor:\", r2_svm_reg)\n",
    "print(\"R2 score for Linear Regression with Polynomial Features:\", r2_lin_poly_reg)\n",
    "print(\"R2 score for Ridge Regression:\", r2_ridge_reg)\n",
    "print(\"R2 score for Elastic Net Regression:\", r2_elastic_reg)"
   ]
  }
 ],
 "metadata": {
  "kernelspec": {
   "display_name": "Python 3 (ipykernel)",
   "language": "python",
   "name": "python3"
  },
  "language_info": {
   "codemirror_mode": {
    "name": "ipython",
    "version": 3
   },
   "file_extension": ".py",
   "mimetype": "text/x-python",
   "name": "python",
   "nbconvert_exporter": "python",
   "pygments_lexer": "ipython3",
   "version": "3.10.8"
  }
 },
 "nbformat": 4,
 "nbformat_minor": 5
}
