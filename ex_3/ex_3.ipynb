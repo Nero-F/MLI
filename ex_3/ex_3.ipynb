{
 "cells": [
  {
   "cell_type": "code",
   "execution_count": 26,
   "id": "4910adc8-fe27-4717-b4d6-10af0478f866",
   "metadata": {},
   "outputs": [],
   "source": [
    "import numpy as np\n",
    "import pandas as pd\n",
    "from sklearn.model_selection import train_test_split, GridSearchCV, cross_val_score\n",
    "from sklearn.metrics import accuracy_score, classification_report\n",
    "from sklearn.linear_model import LogisticRegression\n",
    "from sklearn.tree import DecisionTreeClassifier\n",
    "from sklearn.ensemble import RandomForestClassifier\n",
    "from sklearn.svm import SVC\n",
    "from sklearn.feature_selection import SelectKBest\n",
    "\n",
    "import matplotlib.pyplot as plt\n",
    "import seaborn as sns"
   ]
  },
  {
   "attachments": {},
   "cell_type": "markdown",
   "id": "e3af462a",
   "metadata": {},
   "source": [
    "Load the data"
   ]
  },
  {
   "cell_type": "code",
   "execution_count": 27,
   "id": "73f2f579-4222-4d52-964c-2c9ffed0f821",
   "metadata": {},
   "outputs": [],
   "source": [
    "x = np.load('inputs.npy')\n",
    "y = np.load('labels.npy').ravel()"
   ]
  },
  {
   "attachments": {},
   "cell_type": "markdown",
   "id": "c788ed3b",
   "metadata": {},
   "source": [
    "Create a DataFrame from Inputs and Labels"
   ]
  },
  {
   "cell_type": "code",
   "execution_count": 28,
   "id": "ca800c00-e854-4fdf-bbfa-0c5562ecd6b3",
   "metadata": {},
   "outputs": [],
   "source": [
    "df = pd.DataFrame(data=x, columns=[f\"Feature {i+1}\" for i in range(x.shape[1])])\n",
    "df[\"label\"] = y"
   ]
  },
  {
   "attachments": {},
   "cell_type": "markdown",
   "id": "86fcdbc3",
   "metadata": {},
   "source": [
    "Split the data into training and test sets"
   ]
  },
  {
   "cell_type": "code",
   "execution_count": 29,
   "id": "1e601fcb-ddfa-4a7e-9c47-bdfe2c449fb1",
   "metadata": {},
   "outputs": [],
   "source": [
    "x_train, x_test, y_train, y_test = train_test_split(x, y, test_size=0.2, random_state=42)"
   ]
  },
  {
   "attachments": {},
   "cell_type": "markdown",
   "id": "0cb3e891",
   "metadata": {},
   "source": [
    "Define the models"
   ]
  },
  {
   "cell_type": "code",
   "execution_count": 30,
   "id": "913a1a86-988a-43df-9505-20f04a89472d",
   "metadata": {},
   "outputs": [],
   "source": [
    "dt = DecisionTreeClassifier()\n",
    "rf = RandomForestClassifier()\n",
    "svm = SVC()"
   ]
  },
  {
   "attachments": {},
   "cell_type": "markdown",
   "id": "3c0b23a4",
   "metadata": {},
   "source": [
    "Fit the models"
   ]
  },
  {
   "cell_type": "code",
   "execution_count": null,
   "id": "eae9af88-5119-4469-b3e1-a8a356e74cb0",
   "metadata": {},
   "outputs": [],
   "source": [
    "dt.fit(x_train, y_train)\n",
    "rf.fit(x_train, y_train)\n",
    "svm.fit(x_train, y_train)"
   ]
  },
  {
   "attachments": {},
   "cell_type": "markdown",
   "id": "96e88ffe",
   "metadata": {},
   "source": [
    "Predict Labels using the models"
   ]
  },
  {
   "cell_type": "code",
   "execution_count": 32,
   "id": "230b5e00",
   "metadata": {},
   "outputs": [],
   "source": [
    "y_pred_dt = dt.predict(x_test)\n",
    "y_pred_rf = rf.predict(x_test)\n",
    "y_pred_svm = svm.predict(x_test)"
   ]
  },
  {
   "attachments": {},
   "cell_type": "markdown",
   "id": "4431a722",
   "metadata": {},
   "source": [
    "Print accuracy score and classification report (with Decision Tree Classifier)"
   ]
  },
  {
   "cell_type": "code",
   "execution_count": 33,
   "id": "6f121c2f-bd16-4f74-9bbd-e823c767b70d",
   "metadata": {},
   "outputs": [
    {
     "name": "stdout",
     "output_type": "stream",
     "text": [
      "Accuracy: 0.69\n",
      "              precision    recall  f1-score   support\n",
      "\n",
      "        -1.0       0.68      0.77      0.73        53\n",
      "         1.0       0.70      0.60      0.64        47\n",
      "\n",
      "    accuracy                           0.69       100\n",
      "   macro avg       0.69      0.68      0.68       100\n",
      "weighted avg       0.69      0.69      0.69       100\n",
      "\n"
     ]
    }
   ],
   "source": [
    "print(\"Accuracy:\", accuracy_score(y_test, y_pred_dt))\n",
    "print(classification_report(y_test, y_pred_dt))"
   ]
  },
  {
   "attachments": {},
   "cell_type": "markdown",
   "id": "d5dd84fa",
   "metadata": {},
   "source": [
    "Print accuracy score and classification report (with Random Forest Classifier)"
   ]
  },
  {
   "cell_type": "code",
   "execution_count": 34,
   "id": "f49dda02-507b-4589-97e8-6cdee42f768a",
   "metadata": {},
   "outputs": [
    {
     "name": "stdout",
     "output_type": "stream",
     "text": [
      "Accuracy: 0.75\n",
      "              precision    recall  f1-score   support\n",
      "\n",
      "        -1.0       0.76      0.77      0.77        53\n",
      "         1.0       0.74      0.72      0.73        47\n",
      "\n",
      "    accuracy                           0.75       100\n",
      "   macro avg       0.75      0.75      0.75       100\n",
      "weighted avg       0.75      0.75      0.75       100\n",
      "\n"
     ]
    }
   ],
   "source": [
    "print(\"Accuracy:\", accuracy_score(y_test, y_pred_rf))\n",
    "print(classification_report(y_test, y_pred_rf))"
   ]
  },
  {
   "attachments": {},
   "cell_type": "markdown",
   "id": "a89445a0",
   "metadata": {},
   "source": [
    "Print accuracy score and classification report (with SVC)"
   ]
  },
  {
   "cell_type": "code",
   "execution_count": 35,
   "id": "2b37bf36-6559-46e9-b4dd-785359bd89bb",
   "metadata": {},
   "outputs": [
    {
     "name": "stdout",
     "output_type": "stream",
     "text": [
      "Accuracy: 0.86\n",
      "              precision    recall  f1-score   support\n",
      "\n",
      "        -1.0       0.88      0.85      0.87        53\n",
      "         1.0       0.84      0.87      0.85        47\n",
      "\n",
      "    accuracy                           0.86       100\n",
      "   macro avg       0.86      0.86      0.86       100\n",
      "weighted avg       0.86      0.86      0.86       100\n",
      "\n"
     ]
    }
   ],
   "source": [
    "print(\"Accuracy:\", accuracy_score(y_test, y_pred_svm))\n",
    "print(classification_report(y_test, y_pred_svm))"
   ]
  }
 ],
 "metadata": {
  "kernelspec": {
   "display_name": "Python 3",
   "language": "python",
   "name": "python3"
  },
  "language_info": {
   "codemirror_mode": {
    "name": "ipython",
    "version": 3
   },
   "file_extension": ".py",
   "mimetype": "text/x-python",
   "name": "python",
   "nbconvert_exporter": "python",
   "pygments_lexer": "ipython3",
   "version": "3.10.8"
  },
  "vscode": {
   "interpreter": {
    "hash": "b0fa6594d8f4cbf19f97940f81e996739fb7646882a419484c72d19e05852a7e"
   }
  }
 },
 "nbformat": 4,
 "nbformat_minor": 5
}
