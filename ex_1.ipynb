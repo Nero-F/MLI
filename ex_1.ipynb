{
 "cells": [
  {
   "cell_type": "markdown",
   "id": "8ca1bcb3-9555-42b5-a377-de125ec6b5f0",
   "metadata": {},
   "source": [
    "import usefull packages"
   ]
  },
  {
   "cell_type": "code",
   "execution_count": 1,
   "id": "93b36af0-906a-4213-824a-696a32fcf1a6",
   "metadata": {},
   "outputs": [],
   "source": [
    "import pandas as pd\n",
    "import numpy as np"
   ]
  },
  {
   "cell_type": "code",
   "execution_count": 2,
   "id": "9bc1d019-a6ed-439f-b29a-b57514ebe545",
   "metadata": {},
   "outputs": [],
   "source": [
    "def generate_data_col(i: int):\n",
    "    mean, width = i*1.5+1, i*0.5+0.5\n",
    "    print(\"mean: %.1f, standard deviation: %.1f\" % (mean, width))\n",
    "    return np.random.normal(mean, width, 300)"
   ]
  },
  {
   "cell_type": "code",
   "execution_count": 3,
   "id": "4cc10acc-2ac2-4a1e-9baf-db71d78a483b",
   "metadata": {},
   "outputs": [
    {
     "name": "stdout",
     "output_type": "stream",
     "text": [
      "mean: 1.0, standard deviation: 0.5\n",
      "mean: 2.5, standard deviation: 1.0\n",
      "mean: 4.0, standard deviation: 1.5\n",
      "mean: 5.5, standard deviation: 2.0\n",
      "mean: 7.0, standard deviation: 2.5\n",
      "mean: 8.5, standard deviation: 3.0\n"
     ]
    }
   ],
   "source": [
    "n_sample = 300\n",
    "data = []\n",
    "\n",
    "for i in range(6):\n",
    "    data.append(generate_data_col(i))"
   ]
  },
  {
   "cell_type": "code",
   "execution_count": 4,
   "id": "b665218a-0005-4130-838b-1f6aca48eac4",
   "metadata": {},
   "outputs": [
    {
     "name": "stdout",
     "output_type": "stream",
     "text": [
      "[[ 1.23100053  2.34953852  1.86232493  6.86326491  7.51755328  7.86179528]\n",
      " [ 1.68127582  2.08628907  1.37712046  5.83361112  6.75199398  8.99117062]\n",
      " [ 1.73013939  0.50145603  4.39218787  5.78921744  7.57711779 11.02813687]\n",
      " ...\n",
      " [ 0.68069556  1.45178005  3.36142576  2.6469357   6.86938018 10.21835666]\n",
      " [ 1.2387378   2.97321506  3.82154182  7.38298617  6.72829153  6.76048074]\n",
      " [ 1.05780239  3.07946423  6.22409168  7.50891255  7.87297871  4.33068711]]\n"
     ]
    }
   ],
   "source": [
    "data = np.array(data).T\n",
    "\n",
    "print(data)"
   ]
  },
  {
   "cell_type": "code",
   "execution_count": 5,
   "id": "4a031c0c-71cf-4975-aa1a-448d5708743a",
   "metadata": {},
   "outputs": [
    {
     "name": "stdout",
     "output_type": "stream",
     "text": [
      "['c1', 'c2', 'c3', 'c4', 'c5', 'c6']\n",
      "           c1        c2        c3        c4         c5         c6\n",
      "0    1.231001  2.349539  1.862325  6.863265   7.517553   7.861795\n",
      "1    1.681276  2.086289  1.377120  5.833611   6.751994   8.991171\n",
      "2    1.730139  0.501456  4.392188  5.789217   7.577118  11.028137\n",
      "3    1.212081  2.778229  6.483949  6.593586   2.955380  11.682219\n",
      "4    1.370364  3.824751  4.311832  7.559515   7.930648   9.647643\n",
      "..        ...       ...       ...       ...        ...        ...\n",
      "295  0.565253  0.078708  3.959810  3.366636   8.210645  12.809488\n",
      "296  1.158481  3.248337  6.771628  2.801578  13.499591   4.687396\n",
      "297  0.680696  1.451780  3.361426  2.646936   6.869380  10.218357\n",
      "298  1.238738  2.973215  3.821542  7.382986   6.728292   6.760481\n",
      "299  1.057802  3.079464  6.224092  7.508913   7.872979   4.330687\n",
      "\n",
      "[300 rows x 6 columns]\n"
     ]
    }
   ],
   "source": [
    "columns = [\"c\"+str(i+1) for i in range(6)]\n",
    "print(columns)\n",
    "df = pd.DataFrame(data, columns=columns)\n",
    "print(df)"
   ]
  },
  {
   "cell_type": "code",
   "execution_count": 6,
   "id": "0a4303ce-9e93-4597-90ea-26dc1edf6f81",
   "metadata": {},
   "outputs": [
    {
     "name": "stdout",
     "output_type": "stream",
     "text": [
      "0       8\n",
      "1       9\n",
      "2      11\n",
      "3      12\n",
      "4      10\n",
      "       ..\n",
      "295    13\n",
      "296     5\n",
      "297    10\n",
      "298     7\n",
      "299     4\n",
      "Name: c6, Length: 300, dtype: int64\n"
     ]
    }
   ],
   "source": [
    "df[\"c6\"] = df[\"c6\"].apply(np.round).astype(int)\n",
    "print(df[\"c6\"])"
   ]
  },
  {
   "cell_type": "code",
   "execution_count": 7,
   "id": "f98a3253-5874-4f94-9b51-bc2a9c269e0d",
   "metadata": {},
   "outputs": [
    {
     "name": "stdout",
     "output_type": "stream",
     "text": [
      "0     -1.862325\n",
      "1     -1.377120\n",
      "2     -4.392188\n",
      "3     -6.483949\n",
      "4     -4.311832\n",
      "         ...   \n",
      "295   -3.959810\n",
      "296   -6.771628\n",
      "297   -3.361426\n",
      "298   -3.821542\n",
      "299   -6.224092\n",
      "Name: c3, Length: 300, dtype: float64 0     -6.863265\n",
      "1     -5.833611\n",
      "2     -5.789217\n",
      "3     -6.593586\n",
      "4     -7.559515\n",
      "         ...   \n",
      "295   -3.366636\n",
      "296   -2.801578\n",
      "297   -2.646936\n",
      "298   -7.382986\n",
      "299   -7.508913\n",
      "Name: c4, Length: 300, dtype: float64\n"
     ]
    }
   ],
   "source": [
    "df[\"c3\"] = -1 * df[\"c3\"]\n",
    "df[\"c4\"] = -1 * df[\"c4\"]\n",
    "print(df[\"c3\"], df[\"c4\"])"
   ]
  },
  {
   "cell_type": "code",
   "execution_count": 8,
   "id": "0e74d386-61dc-4cbc-b77e-f048ac9ceb2f",
   "metadata": {},
   "outputs": [],
   "source": [
    "df.to_csv(\"artificial_dataset.csv\", index=False)"
   ]
  }
 ],
 "metadata": {
  "kernelspec": {
   "display_name": "Python 3 (ipykernel)",
   "language": "python",
   "name": "python3"
  },
  "language_info": {
   "codemirror_mode": {
    "name": "ipython",
    "version": 3
   },
   "file_extension": ".py",
   "mimetype": "text/x-python",
   "name": "python",
   "nbconvert_exporter": "python",
   "pygments_lexer": "ipython3",
   "version": "3.10.9"
  }
 },
 "nbformat": 4,
 "nbformat_minor": 5
}
